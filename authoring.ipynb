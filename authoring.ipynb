{
 "cells": [
  {
   "cell_type": "code",
   "execution_count": 1,
   "metadata": {},
   "outputs": [],
   "source": [
    "from datetime import datetime\n",
    "from itertools import product\n",
    "from functools import partial\n",
    "import operator\n",
    "from dataclasses import dataclass\n",
    "\n",
    "import pandas as pd\n",
    "from sklearn.datasets import load_wine\n",
    "from sklearn.ensemble import RandomForestClassifier \n",
    "from sklearn.model_selection import train_test_split\n",
    "from sklearn.metrics import confusion_matrix, f1_score\n",
    "import plotly\n",
    "import plotly.figure_factory as ff\n",
    "\n",
    "from flytekit import task, map_task, ImageSpec, Deck, workflow\n",
    "from flytekit.configuration import Config\n",
    "from flytekit.remote import FlyteRemote\n"
   ]
  },
  {
   "cell_type": "code",
   "execution_count": 2,
   "metadata": {},
   "outputs": [
    {
     "data": {
      "text/html": [
       "<pre style=\"white-space:pre;overflow-x:auto;line-height:normal;font-family:Menlo,'DejaVu Sans Mono',consolas,'Courier New',monospace\"><span style=\"color: #7fbfbf; text-decoration-color: #7fbfbf\">11:20:34.875396 </span><span style=\"color: #808000; text-decoration-color: #808000\">WARNING </span> remote.py:<span style=\"color: #008080; text-decoration-color: #008080; font-weight: bold\">222</span> - Jupyter notebook and interactive task  \n",
       "<span style=\"color: #7fbfbf; text-decoration-color: #7fbfbf\">                </span>         support is still alpha.                                \n",
       "</pre>\n"
      ],
      "text/plain": [
       "\u001b[2;36m11:20:34.875396\u001b[0m\u001b[2;36m \u001b[0m\u001b[33mWARNING \u001b[0m remote.py:\u001b[1;36m222\u001b[0m - Jupyter notebook and interactive task  \n",
       "\u001b[2;36m                \u001b[0m         support is still alpha.                                \n"
      ]
     },
     "metadata": {},
     "output_type": "display_data"
    }
   ],
   "source": [
    "remote = FlyteRemote(\n",
    "    Config.for_endpoint(\"demo.hosted.unionai.cloud\"),\n",
    "    default_project=\"flytesnacks\", \n",
    "    default_domain=\"development\",\n",
    "    interactive_mode_enabled=True,\n",
    ")\n",
    "\n",
    "image = ImageSpec(\n",
    "    builder=\"default\",\n",
    "    registry=\"ghcr.io/granthamtaylor\",\n",
    "    name='byoc-sandbox',\n",
    "    packages=[\n",
    "        \"scikit-learn==1.5.1\",\n",
    "        \"pandas==2.2.2\",\n",
    "        'pyarrow',\n",
    "        'fastparquet',\n",
    "        'matplotlib',\n",
    "        'plotly',\n",
    "        \"git+https://github.com/flyteorg/flytekit.git@60499483afd43585279066389357dfe7cfb544e5\",\n",
    "    ],\n",
    "    apt_packages=[\"git\"]\n",
    ")"
   ]
  },
  {
   "cell_type": "code",
   "execution_count": 3,
   "metadata": {},
   "outputs": [],
   "source": [
    "@dataclass\n",
    "class SearchSpace:\n",
    "    max_depth: list[int]\n",
    "    max_features: list[str | None]\n",
    "    n_estimators: list[int]\n",
    "\n",
    "\n",
    "@dataclass\n",
    "class Hyperparameters:\n",
    "    max_depth: int\n",
    "    max_features: str | None\n",
    "    n_estimators: int\n"
   ]
  },
  {
   "cell_type": "code",
   "execution_count": 4,
   "metadata": {},
   "outputs": [],
   "source": [
    "@task(container_image=image)\n",
    "def get_dataframe() -> pd.DataFrame:\n",
    "    \"\"\"\n",
    "    Retrieves a pandas DataFrame containing wine data.\n",
    "    \"\"\"\n",
    "    \n",
    "    return load_wine(as_frame=True).frame\n"
   ]
  },
  {
   "cell_type": "code",
   "execution_count": 5,
   "metadata": {},
   "outputs": [],
   "source": [
    "@task(container_image=image)\n",
    "def create_search_grid(searchspace: SearchSpace) -> list[Hyperparameters]:\n",
    "    \"\"\"\n",
    "    Generate a search grid based on the given dictionary of lists.\n",
    "    \"\"\"\n",
    "    \n",
    "    keys = vars(searchspace).keys()\n",
    "    values = [getattr(searchspace, key) for key in keys]\n",
    "    \n",
    "    grid = [Hyperparameters(**dict(zip(keys, combination))) for combination in product(*values)]\n",
    "    \n",
    "    return grid\n"
   ]
  },
  {
   "cell_type": "code",
   "execution_count": 6,
   "metadata": {},
   "outputs": [],
   "source": [
    "def split(dataframe: pd.DataFrame, test_size: float=0.25) -> tuple[pd.DataFrame, ...]:\n",
    "    \"\"\"\n",
    "    Split the given dataframe into training and testing sets.\n",
    "    \"\"\"\n",
    "    \n",
    "    targets = dataframe[\"target\"]\n",
    "    \n",
    "    return train_test_split(\n",
    "        dataframe.drop(columns = [\"target\"]),\n",
    "        targets,\n",
    "        test_size=test_size,\n",
    "        stratify=targets,\n",
    "        random_state=42\n",
    "    )"
   ]
  },
  {
   "cell_type": "code",
   "execution_count": 7,
   "metadata": {},
   "outputs": [],
   "source": [
    "@task(container_image=image)\n",
    "def train_model(dataframe: pd.DataFrame, hyperparameters: Hyperparameters) -> RandomForestClassifier:\n",
    "    \"\"\"\n",
    "    Trains a random forest classifier model using the given dataframe and hyperparameters.\n",
    "    \"\"\"\n",
    "    \n",
    "    X_train, X_test, y_train, y_test = split(dataframe)\n",
    "\n",
    "    model = RandomForestClassifier(**vars(hyperparameters))\n",
    "    model.fit(X_train, y_train)\n",
    "\n",
    "    return model\n"
   ]
  },
  {
   "cell_type": "code",
   "execution_count": 8,
   "metadata": {},
   "outputs": [],
   "source": [
    "def plot_confusion_matrix(y_true, y_pred):\n",
    "    \"\"\"\n",
    "    Plots a confusion matrix based on the true labels and predicted labels.\n",
    "    \"\"\"\n",
    "    \n",
    "    array = confusion_matrix(y_true, y_pred)\n",
    "    \n",
    "    labels = y_true.unique().tolist()\n",
    "\n",
    "    # change each element of z to type string for annotations\n",
    "    z_text = [[str(y) for y in x] for x in array.tolist()]\n",
    "\n",
    "    # set up figure \n",
    "    fig = ff.create_annotated_heatmap(array, x=labels, y=labels, annotation_text=z_text, colorscale='Viridis')\n",
    "\n",
    "    # add title\n",
    "    fig.update_layout(\n",
    "        title_text='Confusion Matrix',\n",
    "        xaxis = dict(title='Predicted Label'),\n",
    "        yaxis = dict(title='Actual Label')\n",
    "    )\n",
    "\n",
    "    # add custom xaxis title\n",
    "    fig.add_annotation(dict(\n",
    "        font=dict(color=\"black\",size=14),\n",
    "        x=0.5,\n",
    "        y=-0.15,\n",
    "        showarrow=False,\n",
    "        text=\"Predicted value\",\n",
    "        xref=\"paper\",\n",
    "        yref=\"paper\",\n",
    "    ))\n",
    "\n",
    "    # add custom yaxis title\n",
    "    fig.add_annotation(dict(\n",
    "        font=dict(color=\"black\",size=14),\n",
    "        x=-0.35,\n",
    "        y=0.5,\n",
    "        showarrow=False,\n",
    "        text=\"Real value\",\n",
    "        textangle=-90,\n",
    "        xref=\"paper\",\n",
    "        yref=\"paper\"\n",
    "    ))\n",
    "\n",
    "    # adjust margins to make room for yaxis title\n",
    "    fig.update_layout(margin=dict(t=50, l=200))\n",
    "\n",
    "    # add colorbar\n",
    "    fig['data'][0]['showscale'] = True\n",
    "    \n",
    "    return fig\n",
    "\n"
   ]
  },
  {
   "cell_type": "code",
   "execution_count": 9,
   "metadata": {},
   "outputs": [],
   "source": [
    "@task(container_image=image, enable_deck=True)\n",
    "def compare_model_results(\n",
    "    dataframe: pd.DataFrame,\n",
    "    models: list[RandomForestClassifier],\n",
    "    hyperparameters: list[Hyperparameters],\n",
    ") -> RandomForestClassifier:\n",
    "    \"\"\"\n",
    "    Compares the results of different models on a given dataframe using specified hyperparameters.\n",
    "    \"\"\"\n",
    "    \n",
    "    X_train, X_test, y_train, y_test = split(dataframe)\n",
    "    \n",
    "    scores: list[float] = []\n",
    "    \n",
    "    for model in models:\n",
    "        \n",
    "        yhat = model.predict(X_test)\n",
    "        \n",
    "        score = f1_score(y_pred=yhat, y_true=y_test, average=\"macro\")\n",
    "        \n",
    "        scores.append(score)\n",
    "    \n",
    "    which_best, _ = max(enumerate(scores), key=operator.itemgetter(1))\n",
    "    \n",
    "    df = pd.DataFrame.from_records(list(map(vars, hyperparameters)))\n",
    "    df['scores'] = scores\n",
    "    df.sort_values(by='scores', ascending=False, inplace=True)\n",
    "    \n",
    "    print(df)\n",
    "\n",
    "    Deck(\"Model Results\", df.to_html())\n",
    "    \n",
    "    return models[which_best]\n"
   ]
  },
  {
   "cell_type": "code",
   "execution_count": 10,
   "metadata": {},
   "outputs": [],
   "source": [
    "\n",
    "@task(container_image=image, enable_deck=True)\n",
    "def analyze_model(\n",
    "    model: RandomForestClassifier,\n",
    "    dataframe: pd.DataFrame,\n",
    ") -> None:\n",
    "    \"\"\"\n",
    "    Analyzes the performance of a RandomForestClassifier model on a given dataframe.\n",
    "    \"\"\"\n",
    "    \n",
    "    X_train, X_test, y_train, y_test = split(dataframe)\n",
    "    \n",
    "    yhat = model.predict(X_test)\n",
    "    \n",
    "    plot = plot_confusion_matrix(y_true=y_test, y_pred=yhat)\n",
    "    \n",
    "    plot.show()\n",
    "\n",
    "    Deck(\"Confusion Matrix\", plotly.io.to_html(plot))\n"
   ]
  },
  {
   "cell_type": "code",
   "execution_count": 11,
   "metadata": {},
   "outputs": [],
   "source": [
    "@task(container_image=image)\n",
    "def create_searchspace() -> SearchSpace:\n",
    "\n",
    "    return SearchSpace(\n",
    "        max_depth=[1, 2, 5, 10],\n",
    "        max_features=[None, 'sqrt'],\n",
    "        n_estimators=[1, 2, 5, 10, 20, 50]\n",
    "    )"
   ]
  },
  {
   "cell_type": "code",
   "execution_count": 12,
   "metadata": {},
   "outputs": [],
   "source": [
    "@workflow\n",
    "def train() -> RandomForestClassifier:\n",
    "    \"\"\"\n",
    "    Executes the training workflow for grid-searched random forest classifier.\n",
    "    \"\"\"\n",
    "    \n",
    "    searchspace = create_searchspace()\n",
    "\n",
    "    dataframe = get_dataframe()\n",
    "    \n",
    "    hyperparameters = create_search_grid(searchspace=searchspace)\n",
    "\n",
    "    models = map_task(partial(train_model, dataframe=dataframe))(hyperparameters=hyperparameters)\n",
    "    \n",
    "    best_model = compare_model_results(models=models, hyperparameters=hyperparameters, dataframe=dataframe)\n",
    "\n",
    "    analyze_model(model=best_model, dataframe=dataframe)\n",
    "    \n",
    "    return best_model\n"
   ]
  },
  {
   "cell_type": "code",
   "execution_count": 13,
   "metadata": {},
   "outputs": [
    {
     "name": "stdout",
     "output_type": "stream",
     "text": [
      "\u001b[34mImage ghcr.io/granthamtaylor/byoc-sandbox:8BPl3b_KZaZz26H_iZlrTA not found. building...\u001b[0m\n",
      "\u001b[34mRun command: docker image build --tag ghcr.io/granthamtaylor/byoc-sandbox:8BPl3b_KZaZz26H_iZlrTA --platform linux/amd64 --push /var/folders/mf/0mf3w2f16rz60zsc7zfmlmkm0000gn/T/tmp6k696toe \u001b[0m\n"
     ]
    },
    {
     "name": "stderr",
     "output_type": "stream",
     "text": [
      "#0 building with \"desktop-linux\" instance using docker driver\n",
      "\n",
      "#1 [internal] load build definition from Dockerfile\n",
      "#1 transferring dockerfile: 1.68kB done\n",
      "#1 DONE 0.0s\n",
      "\n",
      "#2 resolve image config for docker-image://docker.io/docker/dockerfile:1.5\n",
      "#2 DONE 0.6s\n",
      "\n",
      "#3 docker-image://docker.io/docker/dockerfile:1.5@sha256:39b85bbfa7536a5feceb7372a0817649ecb2724562a38360f4d6a7782a409b14\n",
      "#3 CACHED\n",
      "\n",
      "#4 [internal] load .dockerignore\n",
      "#4 transferring context: 2B done\n",
      "#4 DONE 0.0s\n",
      "\n",
      "#5 [internal] load metadata for ghcr.io/astral-sh/uv:0.2.37\n",
      "#5 ...\n",
      "\n",
      "#6 [auth] astral-sh/uv:pull token for ghcr.io\n",
      "#6 DONE 0.0s\n",
      "\n",
      "#7 [internal] load metadata for docker.io/mambaorg/micromamba:1.5.8-bookworm-slim\n",
      "#7 DONE 0.4s\n",
      "\n",
      "#8 [internal] load metadata for docker.io/library/debian:bookworm-slim\n",
      "#8 DONE 0.4s\n",
      "\n",
      "#5 [internal] load metadata for ghcr.io/astral-sh/uv:0.2.37\n",
      "#5 DONE 0.5s\n",
      "\n",
      "#9 [stage-2  1/10] FROM docker.io/library/debian:bookworm-slim@sha256:ad86386827b083b3d71139050b47ffb32bbd9559ea9b1345a739b14fec2d9ecf\n",
      "#9 DONE 0.0s\n",
      "\n",
      "#10 [internal] load build context\n",
      "#10 DONE 0.0s\n",
      "\n",
      "#11 [micromamba 1/1] FROM docker.io/mambaorg/micromamba:1.5.8-bookworm-slim@sha256:475730daef12ff9c0733e70092aeeefdf4c373a584c952dac3f7bdb739601990\n",
      "#11 CACHED\n",
      "\n",
      "#12 [internal] settings cache mount permissions\n",
      "#12 CACHED\n",
      "\n",
      "#13 [uv 1/1] FROM ghcr.io/astral-sh/uv:0.2.37@sha256:ca0d177c47160e3de887d5d15b353300aaf3b3011da806a4700d7d95ae366e4c\n",
      "#13 CACHED\n",
      "\n",
      "#14 [stage-2  4/10] RUN id -u flytekit || useradd --create-home --shell /bin/bash flytekit\n",
      "#14 CACHED\n",
      "\n",
      "#15 [stage-2  2/10] RUN --mount=type=cache,sharing=locked,mode=0777,target=/var/cache/apt,id=apt     apt-get update && apt-get install -y --no-install-recommends     ca-certificates git\n",
      "#15 CACHED\n",
      "\n",
      "#16 [stage-2  3/10] RUN update-ca-certificates\n",
      "#16 CACHED\n",
      "\n",
      "#17 [stage-2  5/10] RUN chown -R flytekit /root && chown -R flytekit /home\n",
      "#17 CACHED\n",
      "\n",
      "#10 [internal] load build context\n",
      "#10 transferring context: 214B 0.5s done\n",
      "#10 DONE 0.5s\n",
      "\n",
      "#18 [stage-2  6/10] RUN --mount=type=cache,sharing=locked,mode=0777,target=/opt/micromamba/pkgs,id=micromamba     --mount=from=micromamba,source=/usr/bin/micromamba,target=/usr/bin/micromamba     micromamba config set use_lockfiles False &&     micromamba create -n runtime --root-prefix /opt/micromamba     -c conda-forge      python=3.11\n",
      "#18 11.01 \n",
      "#18 11.01 Transaction\n",
      "#18 11.01 \n",
      "#18 11.01   Prefix: /opt/micromamba/envs/runtime\n",
      "#18 11.01 \n",
      "#18 11.01   Updating specs:\n",
      "#18 11.01 \n",
      "#18 11.01    - python=3.11\n",
      "#18 11.01 \n",
      "#18 11.01 \n",
      "#18 11.10   Package               Version  Build               Channel           Size\n",
      "#18 11.10 ─────────────────────────────────────────────────────────────────────────────\n",
      "#18 11.10   Install:\n",
      "#18 11.10 ─────────────────────────────────────────────────────────────────────────────\n",
      "#18 11.10 \n",
      "#18 11.10   + _libgcc_mutex           0.1  conda_forge         conda-forge     Cached\n",
      "#18 11.10   + ld_impl_linux-64       2.43  h712a8e2_1          conda-forge     Cached\n",
      "#18 11.10   + ca-certificates   2024.8.30  hbcca054_0          conda-forge     Cached\n",
      "#18 11.10   + libgomp              14.2.0  h77fa898_1          conda-forge      461kB\n",
      "#18 11.10   + _openmp_mutex           4.5  2_gnu               conda-forge     Cached\n",
      "#18 11.10   + libgcc               14.2.0  h77fa898_1          conda-forge      849kB\n",
      "#18 11.10   + libzlib               1.3.1  hb9d3cd8_2          conda-forge     Cached\n",
      "#18 11.10   + libgcc-ng            14.2.0  h69a702a_1          conda-forge       54kB\n",
      "#18 11.10   + openssl               3.3.2  hb9d3cd8_0          conda-forge     Cached\n",
      "#18 11.10   + libexpat              2.6.3  h5888daf_0          conda-forge     Cached\n",
      "#18 11.10   + libsqlite            3.46.1  hadc24fc_0          conda-forge     Cached\n",
      "#18 11.10   + tk                   8.6.13  noxft_h4845f30_101  conda-forge     Cached\n",
      "#18 11.10   + libxcrypt            4.4.36  hd590300_1          conda-forge     Cached\n",
      "#18 11.10   + libffi                3.4.2  h7f98852_5          conda-forge     Cached\n",
      "#18 11.10   + bzip2                 1.0.8  h4bc722e_7          conda-forge     Cached\n",
      "#18 11.10   + ncurses                 6.5  he02047a_1          conda-forge     Cached\n",
      "#18 11.10   + libuuid              2.38.1  h0b41bf4_0          conda-forge     Cached\n",
      "#18 11.10   + libnsl                2.0.1  hd590300_0          conda-forge     Cached\n",
      "#18 11.10   + xz                    5.2.6  h166bdaf_0          conda-forge     Cached\n",
      "#18 11.10   + readline                8.2  h8228510_1          conda-forge     Cached\n",
      "#18 11.10   + tzdata                2024b  hc8b5060_0          conda-forge     Cached\n",
      "#18 11.10   + python              3.11.10  hc5c86c4_3_cpython  conda-forge       31MB\n",
      "#18 11.10   + wheel                0.44.0  pyhd8ed1ab_0        conda-forge     Cached\n",
      "#18 11.10   + setuptools           75.1.0  pyhd8ed1ab_0        conda-forge     Cached\n",
      "#18 11.10   + pip                    24.2  pyh8b19718_1        conda-forge     Cached\n",
      "#18 11.10 \n",
      "#18 11.10   Summary:\n",
      "#18 11.10 \n",
      "#18 11.10   Install: 25 packages\n",
      "#18 11.10 \n",
      "#18 11.10   Total download: 32MB\n",
      "#18 11.10 \n",
      "#18 11.10 ───────────────���─────────────────────────────────────────────────────────────\n",
      "#18 11.10 \n",
      "#18 11.10 \n",
      "#18 11.10 Confirm changes: [Y/n] \n",
      "#18 11.10 Transaction starting\n",
      "#18 13.12 Linking _libgcc_mutex-0.1-conda_forge\n",
      "#18 13.12 Linking ld_impl_linux-64-2.43-h712a8e2_1\n",
      "#18 13.13 Linking ca-certificates-2024.8.30-hbcca054_0\n",
      "#18 13.13 Linking libgomp-14.2.0-h77fa898_1\n",
      "#18 13.13 Linking _openmp_mutex-4.5-2_gnu\n",
      "#18 13.13 Linking libgcc-14.2.0-h77fa898_1\n",
      "#18 13.13 Linking libzlib-1.3.1-hb9d3cd8_2\n",
      "#18 13.13 Linking libgcc-ng-14.2.0-h69a702a_1\n",
      "#18 13.14 Linking openssl-3.3.2-hb9d3cd8_0\n",
      "#18 13.19 Linking libexpat-2.6.3-h5888daf_0\n",
      "#18 13.19 Linking libsqlite-3.46.1-hadc24fc_0\n",
      "#18 13.19 Linking tk-8.6.13-noxft_h4845f30_101\n",
      "#18 13.28 Linking libxcrypt-4.4.36-hd590300_1\n",
      "#18 13.29 Linking libffi-3.4.2-h7f98852_5\n",
      "#18 13.29 Linking bzip2-1.0.8-h4bc722e_7\n",
      "#18 13.30 Linking ncurses-6.5-he02047a_1\n",
      "#18 14.88 Linking libuuid-2.38.1-h0b41bf4_0\n",
      "#18 14.88 Linking libnsl-2.0.1-hd590300_0\n",
      "#18 14.89 Linking xz-5.2.6-h166bdaf_0\n",
      "#18 14.91 Linking readline-8.2-h8228510_1\n",
      "#18 14.91 Linking tzdata-2024b-hc8b5060_0\n",
      "#18 14.97 Linking python-3.11.10-hc5c86c4_3_cpython\n",
      "#18 15.30 Linking wheel-0.44.0-pyhd8ed1ab_0\n",
      "#18 15.47 Linking setuptools-75.1.0-pyhd8ed1ab_0\n",
      "#18 15.55 Linking pip-24.2-pyh8b19718_1\n",
      "#18 16.09 \n",
      "#18 16.09 Transaction finished\n",
      "#18 16.09 \n",
      "#18 16.09 To activate this environment, use:\n",
      "#18 16.09 \n",
      "#18 16.09     micromamba activate runtime\n",
      "#18 16.09 \n",
      "#18 16.09 Or to execute a single command in this environment, use:\n",
      "#18 16.09 \n",
      "#18 16.09     micromamba run -n runtime mycommand\n",
      "#18 16.09 \n",
      "#18 DONE 16.5s\n",
      "\n",
      "#19 [stage-2  7/10] RUN --mount=type=cache,sharing=locked,mode=0777,target=/root/.cache/uv,id=uv     --mount=from=uv,source=/uv,target=/usr/bin/uv     --mount=type=bind,target=requirements_uv.txt,src=requirements_uv.txt     /usr/bin/uv     pip install --python /opt/micromamba/envs/runtime/bin/python      --requirement requirements_uv.txt\n",
      "#19 5.194 Resolved 115 packages in 4.80s\n",
      "#19 8.156 Prepared 14 packages in 2.91s\n",
      "#19 10.56 Installed 115 packages in 2.40s\n",
      "#19 10.56  + adlfs==2024.7.0\n",
      "#19 10.56  + aiobotocore==2.15.2\n",
      "#19 10.56  + aiohappyeyeballs==2.4.3\n",
      "#19 10.56  + aiohttp==3.10.10\n",
      "#19 10.56  + aioitertools==0.12.0\n",
      "#19 10.56  + aiosignal==1.3.1\n",
      "#19 10.56  + attrs==24.2.0\n",
      "#19 10.56  + azure-core==1.31.0\n",
      "#19 10.56  + azure-datalake-store==0.0.53\n",
      "#19 10.56  + azure-identity==1.19.0\n",
      "#19 10.56  + azure-storage-blob==12.23.1\n",
      "#19 10.56  + backports-tarfile==1.2.0\n",
      "#19 10.56  + botocore==1.35.36\n",
      "#19 10.56  + cachetools==5.5.0\n",
      "#19 10.56  + certifi==2024.8.30\n",
      "#19 10.56  + cffi==1.17.1\n",
      "#19 10.56  + charset-normalizer==3.4.0\n",
      "#19 10.56  + click==8.1.7\n",
      "#19 10.56  + cloudpickle==3.1.0\n",
      "#19 10.56  + contourpy==1.3.0\n",
      "#19 10.56  + cramjam==2.9.0\n",
      "#19 10.56  + croniter==3.0.3\n",
      "#19 10.56  + cryptography==43.0.1\n",
      "#19 10.56  + cycler==0.12.1\n",
      "#19 10.56  + dataclasses-json==0.5.9\n",
      "#19 10.56  + decorator==5.1.1\n",
      "#19 10.56  + diskcache==5.6.3\n",
      "#19 10.56  + docker==7.1.0\n",
      "#19 10.56  + docstring-parser==0.16\n",
      "#19 10.56  + fastparquet==2024.5.0\n",
      "#19 10.56  + flyteidl==1.13.4\n",
      "#19 10.56  + flytekit==1.14.0b1.dev13+g60499483 (from git+https://github.com/flyteorg/flytekit.git@60499483afd43585279066389357dfe7cfb544e5)\n",
      "#19 10.56  + fonttools==4.54.1\n",
      "#19 10.56  + frozenlist==1.4.1\n",
      "#19 10.56  + fsspec==2024.9.0\n",
      "#19 10.56  + gcsfs==2024.9.0.post1\n",
      "#19 10.56  + google-api-core==2.21.0\n",
      "#19 10.56  + google-auth==2.35.0\n",
      "#19 10.56  + google-auth-oauthlib==1.2.1\n",
      "#19 10.56  + google-cloud-core==2.4.1\n",
      "#19 10.56  + google-cloud-storage==2.18.2\n",
      "#19 10.56  + google-crc32c==1.6.0\n",
      "#19 10.56  + google-resumable-media==2.7.2\n",
      "#19 10.56  + googleapis-common-protos==1.65.0\n",
      "#19 10.56  + grpcio==1.67.0\n",
      "#19 10.56  + grpcio-status==1.67.0\n",
      "#19 10.56  + idna==3.10\n",
      "#19 10.56  + importlib-metadata==8.5.0\n",
      "#19 10.56  + isodate==0.7.2\n",
      "#19 10.56  + jaraco-classes==3.4.0\n",
      "#19 10.56  + jaraco-context==6.0.1\n",
      "#19 10.56  + jaraco-functools==4.1.0\n",
      "#19 10.56  + jeepney==0.8.0\n",
      "#19 10.56  + jmespath==1.0.1\n",
      "#19 10.56  + joblib==1.4.2\n",
      "#19 10.56  + jsonlines==4.0.0\n",
      "#19 10.56  + jsonpickle==3.3.0\n",
      "#19 10.56  + keyring==25.4.1\n",
      "#19 10.56  + kiwisolver==1.4.7\n",
      "#19 10.56  + markdown-it-py==3.0.0\n",
      "#19 10.56  + marshmallow==3.22.0\n",
      "#19 10.56  + marshmallow-enum==1.5.1\n",
      "#19 10.56  + marshmallow-jsonschema==0.13.0\n",
      "#19 10.56  + mashumaro==3.13.1\n",
      "#19 10.56  + matplotlib==3.9.2\n",
      "#19 10.56  + mdurl==0.1.2\n",
      "#19 10.56  + more-itertools==10.5.0\n",
      "#19 10.56  + msal==1.31.0\n",
      "#19 10.56  + msal-extensions==1.2.0\n",
      "#19 10.56  + msgpack==1.1.0\n",
      "#19 10.56  + multidict==6.1.0\n",
      "#19 10.56  + mypy-extensions==1.0.0\n",
      "#19 10.56  + numpy==2.1.2\n",
      "#19 10.56  + oauthlib==3.2.2\n",
      "#19 10.56  + packaging==24.1\n",
      "#19 10.56  + pandas==2.2.2\n",
      "#19 10.56  + pillow==11.0.0\n",
      "#19 10.56  + plotly==5.24.1\n",
      "#19 10.56  + portalocker==2.10.1\n",
      "#19 10.56  + propcache==0.2.0\n",
      "#19 10.56  + proto-plus==1.24.0\n",
      "#19 10.56  + protobuf==5.28.2\n",
      "#19 10.56  + protoc-gen-openapiv2==0.0.1\n",
      "#19 10.56  + pyarrow==17.0.0\n",
      "#19 10.56  + pyasn1==0.6.1\n",
      "#19 10.56  + pyasn1-modules==0.4.1\n",
      "#19 10.56  + pycparser==2.22\n",
      "#19 10.56  + pygments==2.18.0\n",
      "#19 10.56  + pyjwt==2.9.0\n",
      "#19 10.56  + pyparsing==3.2.0\n",
      "#19 10.56  + python-dateutil==2.9.0.post0\n",
      "#19 10.56  + python-json-logger==2.0.7\n",
      "#19 10.56  + pytimeparse==1.1.8\n",
      "#19 10.56  + pytz==2024.2\n",
      "#19 10.56  + pyyaml==6.0.2\n",
      "#19 10.56  + requests==2.32.3\n",
      "#19 10.56  + requests-oauthlib==2.0.0\n",
      "#19 10.56  + rich==13.9.2\n",
      "#19 10.56  + rich-click==1.8.3\n",
      "#19 10.56  + rsa==4.9\n",
      "#19 10.56  + s3fs==2024.9.0\n",
      "#19 10.56  + scikit-learn==1.5.1\n",
      "#19 10.56  + scipy==1.14.1\n",
      "#19 10.56  + secretstorage==3.3.3\n",
      "#19 10.56  + six==1.16.0\n",
      "#19 10.56  + statsd==4.0.1\n",
      "#19 10.56  + tenacity==9.0.0\n",
      "#19 10.56  + threadpoolctl==3.5.0\n",
      "#19 10.56  + typing-extensions==4.12.2\n",
      "#19 10.56  + typing-inspect==0.9.0\n",
      "#19 10.56  + tzdata==2024.2\n",
      "#19 10.56  + urllib3==2.2.3\n",
      "#19 10.56  + wrapt==1.16.0\n",
      "#19 10.56  + yarl==1.15.3\n",
      "#19 10.56  + zipp==3.20.2\n",
      "#19 DONE 11.0s\n",
      "\n",
      "#20 [stage-2  8/10] RUN\n",
      "#20 DONE 0.1s\n",
      "\n",
      "#21 [stage-2  9/10] WORKDIR /root\n",
      "#21 DONE 0.0s\n",
      "\n",
      "#22 [stage-2 10/10] RUN mkdir -p $HOME &&     echo \"export PATH=/opt/micromamba/envs/runtime/bin:/usr/local/sbin:/usr/local/bin:/usr/sbin:/usr/bin:/sbin:/bin:/usr/local/nvidia/bin:/usr/local/cuda/bin\" >> $HOME/.profile\n",
      "#22 DONE 0.5s\n",
      "\n",
      "#23 exporting to image\n",
      "#23 exporting layers\n",
      "#23 exporting layers 1.7s done\n",
      "#23 writing image sha256:ebd90987c5ee1477a69120591ebc853592d1ce68f889dbbe5208dfc3df679884\n",
      "#23 writing image sha256:ebd90987c5ee1477a69120591ebc853592d1ce68f889dbbe5208dfc3df679884 done\n",
      "#23 naming to ghcr.io/granthamtaylor/byoc-sandbox:8BPl3b_KZaZz26H_iZlrTA done\n",
      "#23 DONE 1.7s\n",
      "\n",
      "#24 pushing ghcr.io/granthamtaylor/byoc-sandbox:8BPl3b_KZaZz26H_iZlrTA with docker\n",
      "#24 pushing layer c7645e5e8af5\n",
      "#24 pushing layer 5f70bf18a086\n",
      "#24 pushing layer 557dfacb2703\n",
      "#24 pushing layer a53c4148b0b9\n",
      "#24 pushing layer 71f49c736fbc\n",
      "#24 pushing layer 3a9ef4cc351e\n",
      "#24 pushing layer 6395195bc13a\n",
      "#24 pushing layer 9212f05f103d\n",
      "#24 pushing layer 5d467c371753\n",
      "#24 pushing layer 8d853c8add5d\n",
      "#24 pushing layer c7645e5e8af5 5.12kB / 955B 0.5s\n",
      "#24 pushing layer 71f49c736fbc 8.81MB / 167.56MB 0.8s\n",
      "#24 pushing layer 71f49c736fbc 17.73MB / 167.56MB 1.1s\n",
      "#24 pushing layer c7645e5e8af5 1.3s done\n",
      "#24 pushing layer 557dfacb2703 1.2s done\n",
      "#24 pushing layer a53c4148b0b9 32.90MB / 628.70MB 1.3s\n",
      "#24 pushing layer 71f49c736fbc 33.25MB / 167.56MB 1.5s\n",
      "#24 pushing layer 71f49c736fbc 43.48MB / 167.56MB 1.7s\n",
      "#24 pushing layer 71f49c736fbc 55.11MB / 167.56MB 2.1s\n",
      "#24 pushing layer a53c4148b0b9 65.76MB / 628.70MB 2.2s\n",
      "#24 pushing layer 71f49c736fbc 65.70MB / 167.56MB 2.4s\n",
      "#24 pushing layer 71f49c736fbc 75.72MB / 167.56MB 2.7s\n",
      "#24 pushing layer 71f49c736fbc 86.20MB / 167.56MB 3.0s\n",
      "#24 pushing layer a53c4148b0b9 101.11MB / 628.70MB 3.1s\n",
      "#24 pushing layer 71f49c736fbc 95.35MB / 167.56MB 3.3s\n",
      "#24 pushing layer 71f49c736fbc 105.06MB / 167.56MB 3.6s\n",
      "#24 pushing layer 71f49c736fbc 113.65MB / 167.56MB 4.0s\n",
      "#24 pushing layer a53c4148b0b9 133.63MB / 628.70MB 4.1s\n",
      "#24 pushing layer 71f49c736fbc 124.44MB / 167.56MB 4.3s\n",
      "#24 pushing layer 71f49c736fbc 133.60MB / 167.56MB 4.5s\n",
      "#24 pushing layer 71f49c736fbc 142.13MB / 167.56MB 4.7s\n",
      "#24 pushing layer a53c4148b0b9 165.28MB / 628.70MB 5.0s\n",
      "#24 pushing layer 71f49c736fbc 154.37MB / 167.56MB 5.1s\n",
      "#24 pushing layer 71f49c736fbc 167.84MB / 167.56MB 5.4s\n",
      "#24 pushing layer a53c4148b0b9 201.42MB / 628.70MB 5.8s\n",
      "#24 pushing layer a53c4148b0b9 234.98MB / 628.70MB 6.7s\n",
      "#24 pushing layer a53c4148b0b9 272.14MB / 628.70MB 7.6s\n",
      "#24 pushing layer a53c4148b0b9 304.77MB / 628.70MB 8.1s\n",
      "#24 pushing layer a53c4148b0b9 337.43MB / 628.70MB 8.8s\n",
      "#24 pushing layer a53c4148b0b9 371.94MB / 628.70MB 9.7s\n",
      "#24 pushing layer a53c4148b0b9 404.78MB / 628.70MB 10.4s\n",
      "#24 pushing layer 71f49c736fbc 10.8s done\n",
      "#24 pushing layer a53c4148b0b9 438.67MB / 628.70MB 11.3s\n",
      "#24 pushing layer a53c4148b0b9 471.12MB / 628.70MB 12.0s\n",
      "#24 pushing layer a53c4148b0b9 503.32MB / 628.70MB 12.8s\n",
      "#24 pushing layer a53c4148b0b9 538.71MB / 628.70MB 13.6s\n",
      "#24 pushing layer a53c4148b0b9 570.60MB / 628.70MB 14.3s\n",
      "#24 pushing layer a53c4148b0b9 603.23MB / 628.70MB 15.0s\n",
      "#24 pushing layer a53c4148b0b9 638.17MB / 628.70MB 15.9s\n",
      "#24 pushing layer a53c4148b0b9 23.7s done\n",
      "#24 pushing layer 8d853c8add5d 24.6s done\n",
      "#24 pushing layer 5f70bf18a086 24.6s done\n",
      "#24 pushing layer 3a9ef4cc351e 24.6s done\n",
      "#24 pushing layer 6395195bc13a 24.6s done\n",
      "#24 pushing layer 9212f05f103d 24.6s done\n",
      "#24 pushing layer 5d467c371753 24.6s done\n",
      "#24 DONE 24.8s\n"
     ]
    },
    {
     "name": "stdout",
     "output_type": "stream",
     "text": [
      "https://demo.hosted.unionai.cloud/console/projects/flytesnacks/domains/development/executions/anp62tkvnrw5zgfgfg77\n"
     ]
    }
   ],
   "source": [
    "execution = remote.execute(train, inputs={}, version=str(datetime.now()))\n",
    "print(remote.generate_console_url(execution))\n"
   ]
  },
  {
   "cell_type": "code",
   "execution_count": 14,
   "metadata": {},
   "outputs": [
    {
     "name": "stdout",
     "output_type": "stream",
     "text": [
      "    max_depth max_features  n_estimators    scores\n",
      "47         10         sqrt            50  1.000000\n",
      "34          5         sqrt            20  1.000000\n",
      "29          5         None            50  1.000000\n",
      "40         10         None            20  1.000000\n",
      "41         10         None            50  1.000000\n",
      "39         10         None            10  0.979724\n",
      "36         10         None             1  0.979724\n",
      "28          5         None            20  0.979724\n",
      "21          2         sqrt            10  0.979724\n",
      "20          2         sqrt             5  0.979724\n",
      "38         10         None             5  0.979724\n",
      "46         10         sqrt            20  0.979724\n",
      "26          5         None             5  0.979497\n",
      "42         10         sqrt             1  0.977143\n",
      "35          5         sqrt            50  0.977143\n",
      "32          5         sqrt             5  0.977143\n",
      "45         10         sqrt            10  0.976498\n",
      "14          2         None             5  0.959559\n",
      "23          2         sqrt            50  0.959559\n",
      "27          5         None            10  0.959259\n",
      "33          5         sqrt            10  0.956306\n",
      "19          2         sqrt             2  0.956236\n",
      "9           1         sqrt            10  0.956236\n",
      "37         10         None             2  0.956236\n",
      "10          1         sqrt            20  0.939394\n",
      "22          2         sqrt            20  0.933303\n",
      "44         10         sqrt             5  0.932898\n",
      "43         10         sqrt             2  0.931917\n",
      "25          5         None             2  0.919118\n",
      "17          2         None            50  0.919118\n",
      "11          1         sqrt            50  0.914697\n",
      "16          2         None            20  0.898990\n",
      "30          5         sqrt             1  0.891414\n",
      "18          2         sqrt             1  0.891414\n",
      "31          5         sqrt             2  0.888069\n",
      "5           1         None            50  0.878676\n",
      "15          2         None            10  0.878676\n",
      "13          2         None             2  0.874080\n",
      "12          2         None             1  0.868708\n",
      "24          5         None             1  0.865201\n",
      "2           1         None             5  0.832855\n",
      "3           1         None            10  0.830065\n",
      "8           1         sqrt             5  0.824774\n",
      "4           1         None            20  0.798006\n",
      "7           1         sqrt             2  0.698092\n",
      "6           1         sqrt             1  0.525084\n",
      "1           1         None             2  0.471480\n",
      "0           1         None             1  0.466667\n"
     ]
    },
    {
     "data": {
      "application/vnd.plotly.v1+json": {
       "config": {
        "plotlyServerURL": "https://plot.ly"
       },
       "data": [
        {
         "colorscale": [
          [
           0,
           "#440154"
          ],
          [
           0.1111111111111111,
           "#482878"
          ],
          [
           0.2222222222222222,
           "#3e4989"
          ],
          [
           0.3333333333333333,
           "#31688e"
          ],
          [
           0.4444444444444444,
           "#26828e"
          ],
          [
           0.5555555555555556,
           "#1f9e89"
          ],
          [
           0.6666666666666666,
           "#35b779"
          ],
          [
           0.7777777777777778,
           "#6ece58"
          ],
          [
           0.8888888888888888,
           "#b5de2b"
          ],
          [
           1,
           "#fde725"
          ]
         ],
         "reversescale": false,
         "showscale": true,
         "type": "heatmap",
         "x": [
          0,
          1,
          2
         ],
         "y": [
          0,
          1,
          2
         ],
         "z": [
          [
           15,
           0,
           0
          ],
          [
           0,
           18,
           0
          ],
          [
           0,
           0,
           12
          ]
         ]
        }
       ],
       "layout": {
        "annotations": [
         {
          "font": {
           "color": "#000000"
          },
          "showarrow": false,
          "text": "15",
          "x": 0,
          "xref": "x",
          "y": 0,
          "yref": "y"
         },
         {
          "font": {
           "color": "#FFFFFF"
          },
          "showarrow": false,
          "text": "0",
          "x": 1,
          "xref": "x",
          "y": 0,
          "yref": "y"
         },
         {
          "font": {
           "color": "#FFFFFF"
          },
          "showarrow": false,
          "text": "0",
          "x": 2,
          "xref": "x",
          "y": 0,
          "yref": "y"
         },
         {
          "font": {
           "color": "#FFFFFF"
          },
          "showarrow": false,
          "text": "0",
          "x": 0,
          "xref": "x",
          "y": 1,
          "yref": "y"
         },
         {
          "font": {
           "color": "#000000"
          },
          "showarrow": false,
          "text": "18",
          "x": 1,
          "xref": "x",
          "y": 1,
          "yref": "y"
         },
         {
          "font": {
           "color": "#FFFFFF"
          },
          "showarrow": false,
          "text": "0",
          "x": 2,
          "xref": "x",
          "y": 1,
          "yref": "y"
         },
         {
          "font": {
           "color": "#FFFFFF"
          },
          "showarrow": false,
          "text": "0",
          "x": 0,
          "xref": "x",
          "y": 2,
          "yref": "y"
         },
         {
          "font": {
           "color": "#FFFFFF"
          },
          "showarrow": false,
          "text": "0",
          "x": 1,
          "xref": "x",
          "y": 2,
          "yref": "y"
         },
         {
          "font": {
           "color": "#000000"
          },
          "showarrow": false,
          "text": "12",
          "x": 2,
          "xref": "x",
          "y": 2,
          "yref": "y"
         },
         {
          "font": {
           "color": "black",
           "size": 14
          },
          "showarrow": false,
          "text": "Predicted value",
          "x": 0.5,
          "xref": "paper",
          "y": -0.15,
          "yref": "paper"
         },
         {
          "font": {
           "color": "black",
           "size": 14
          },
          "showarrow": false,
          "text": "Real value",
          "textangle": -90,
          "x": -0.35,
          "xref": "paper",
          "y": 0.5,
          "yref": "paper"
         }
        ],
        "margin": {
         "l": 200,
         "t": 50
        },
        "template": {
         "data": {
          "bar": [
           {
            "error_x": {
             "color": "#2a3f5f"
            },
            "error_y": {
             "color": "#2a3f5f"
            },
            "marker": {
             "line": {
              "color": "#E5ECF6",
              "width": 0.5
             },
             "pattern": {
              "fillmode": "overlay",
              "size": 10,
              "solidity": 0.2
             }
            },
            "type": "bar"
           }
          ],
          "barpolar": [
           {
            "marker": {
             "line": {
              "color": "#E5ECF6",
              "width": 0.5
             },
             "pattern": {
              "fillmode": "overlay",
              "size": 10,
              "solidity": 0.2
             }
            },
            "type": "barpolar"
           }
          ],
          "carpet": [
           {
            "aaxis": {
             "endlinecolor": "#2a3f5f",
             "gridcolor": "white",
             "linecolor": "white",
             "minorgridcolor": "white",
             "startlinecolor": "#2a3f5f"
            },
            "baxis": {
             "endlinecolor": "#2a3f5f",
             "gridcolor": "white",
             "linecolor": "white",
             "minorgridcolor": "white",
             "startlinecolor": "#2a3f5f"
            },
            "type": "carpet"
           }
          ],
          "choropleth": [
           {
            "colorbar": {
             "outlinewidth": 0,
             "ticks": ""
            },
            "type": "choropleth"
           }
          ],
          "contour": [
           {
            "colorbar": {
             "outlinewidth": 0,
             "ticks": ""
            },
            "colorscale": [
             [
              0,
              "#0d0887"
             ],
             [
              0.1111111111111111,
              "#46039f"
             ],
             [
              0.2222222222222222,
              "#7201a8"
             ],
             [
              0.3333333333333333,
              "#9c179e"
             ],
             [
              0.4444444444444444,
              "#bd3786"
             ],
             [
              0.5555555555555556,
              "#d8576b"
             ],
             [
              0.6666666666666666,
              "#ed7953"
             ],
             [
              0.7777777777777778,
              "#fb9f3a"
             ],
             [
              0.8888888888888888,
              "#fdca26"
             ],
             [
              1,
              "#f0f921"
             ]
            ],
            "type": "contour"
           }
          ],
          "contourcarpet": [
           {
            "colorbar": {
             "outlinewidth": 0,
             "ticks": ""
            },
            "type": "contourcarpet"
           }
          ],
          "heatmap": [
           {
            "colorbar": {
             "outlinewidth": 0,
             "ticks": ""
            },
            "colorscale": [
             [
              0,
              "#0d0887"
             ],
             [
              0.1111111111111111,
              "#46039f"
             ],
             [
              0.2222222222222222,
              "#7201a8"
             ],
             [
              0.3333333333333333,
              "#9c179e"
             ],
             [
              0.4444444444444444,
              "#bd3786"
             ],
             [
              0.5555555555555556,
              "#d8576b"
             ],
             [
              0.6666666666666666,
              "#ed7953"
             ],
             [
              0.7777777777777778,
              "#fb9f3a"
             ],
             [
              0.8888888888888888,
              "#fdca26"
             ],
             [
              1,
              "#f0f921"
             ]
            ],
            "type": "heatmap"
           }
          ],
          "heatmapgl": [
           {
            "colorbar": {
             "outlinewidth": 0,
             "ticks": ""
            },
            "colorscale": [
             [
              0,
              "#0d0887"
             ],
             [
              0.1111111111111111,
              "#46039f"
             ],
             [
              0.2222222222222222,
              "#7201a8"
             ],
             [
              0.3333333333333333,
              "#9c179e"
             ],
             [
              0.4444444444444444,
              "#bd3786"
             ],
             [
              0.5555555555555556,
              "#d8576b"
             ],
             [
              0.6666666666666666,
              "#ed7953"
             ],
             [
              0.7777777777777778,
              "#fb9f3a"
             ],
             [
              0.8888888888888888,
              "#fdca26"
             ],
             [
              1,
              "#f0f921"
             ]
            ],
            "type": "heatmapgl"
           }
          ],
          "histogram": [
           {
            "marker": {
             "pattern": {
              "fillmode": "overlay",
              "size": 10,
              "solidity": 0.2
             }
            },
            "type": "histogram"
           }
          ],
          "histogram2d": [
           {
            "colorbar": {
             "outlinewidth": 0,
             "ticks": ""
            },
            "colorscale": [
             [
              0,
              "#0d0887"
             ],
             [
              0.1111111111111111,
              "#46039f"
             ],
             [
              0.2222222222222222,
              "#7201a8"
             ],
             [
              0.3333333333333333,
              "#9c179e"
             ],
             [
              0.4444444444444444,
              "#bd3786"
             ],
             [
              0.5555555555555556,
              "#d8576b"
             ],
             [
              0.6666666666666666,
              "#ed7953"
             ],
             [
              0.7777777777777778,
              "#fb9f3a"
             ],
             [
              0.8888888888888888,
              "#fdca26"
             ],
             [
              1,
              "#f0f921"
             ]
            ],
            "type": "histogram2d"
           }
          ],
          "histogram2dcontour": [
           {
            "colorbar": {
             "outlinewidth": 0,
             "ticks": ""
            },
            "colorscale": [
             [
              0,
              "#0d0887"
             ],
             [
              0.1111111111111111,
              "#46039f"
             ],
             [
              0.2222222222222222,
              "#7201a8"
             ],
             [
              0.3333333333333333,
              "#9c179e"
             ],
             [
              0.4444444444444444,
              "#bd3786"
             ],
             [
              0.5555555555555556,
              "#d8576b"
             ],
             [
              0.6666666666666666,
              "#ed7953"
             ],
             [
              0.7777777777777778,
              "#fb9f3a"
             ],
             [
              0.8888888888888888,
              "#fdca26"
             ],
             [
              1,
              "#f0f921"
             ]
            ],
            "type": "histogram2dcontour"
           }
          ],
          "mesh3d": [
           {
            "colorbar": {
             "outlinewidth": 0,
             "ticks": ""
            },
            "type": "mesh3d"
           }
          ],
          "parcoords": [
           {
            "line": {
             "colorbar": {
              "outlinewidth": 0,
              "ticks": ""
             }
            },
            "type": "parcoords"
           }
          ],
          "pie": [
           {
            "automargin": true,
            "type": "pie"
           }
          ],
          "scatter": [
           {
            "fillpattern": {
             "fillmode": "overlay",
             "size": 10,
             "solidity": 0.2
            },
            "type": "scatter"
           }
          ],
          "scatter3d": [
           {
            "line": {
             "colorbar": {
              "outlinewidth": 0,
              "ticks": ""
             }
            },
            "marker": {
             "colorbar": {
              "outlinewidth": 0,
              "ticks": ""
             }
            },
            "type": "scatter3d"
           }
          ],
          "scattercarpet": [
           {
            "marker": {
             "colorbar": {
              "outlinewidth": 0,
              "ticks": ""
             }
            },
            "type": "scattercarpet"
           }
          ],
          "scattergeo": [
           {
            "marker": {
             "colorbar": {
              "outlinewidth": 0,
              "ticks": ""
             }
            },
            "type": "scattergeo"
           }
          ],
          "scattergl": [
           {
            "marker": {
             "colorbar": {
              "outlinewidth": 0,
              "ticks": ""
             }
            },
            "type": "scattergl"
           }
          ],
          "scattermapbox": [
           {
            "marker": {
             "colorbar": {
              "outlinewidth": 0,
              "ticks": ""
             }
            },
            "type": "scattermapbox"
           }
          ],
          "scatterpolar": [
           {
            "marker": {
             "colorbar": {
              "outlinewidth": 0,
              "ticks": ""
             }
            },
            "type": "scatterpolar"
           }
          ],
          "scatterpolargl": [
           {
            "marker": {
             "colorbar": {
              "outlinewidth": 0,
              "ticks": ""
             }
            },
            "type": "scatterpolargl"
           }
          ],
          "scatterternary": [
           {
            "marker": {
             "colorbar": {
              "outlinewidth": 0,
              "ticks": ""
             }
            },
            "type": "scatterternary"
           }
          ],
          "surface": [
           {
            "colorbar": {
             "outlinewidth": 0,
             "ticks": ""
            },
            "colorscale": [
             [
              0,
              "#0d0887"
             ],
             [
              0.1111111111111111,
              "#46039f"
             ],
             [
              0.2222222222222222,
              "#7201a8"
             ],
             [
              0.3333333333333333,
              "#9c179e"
             ],
             [
              0.4444444444444444,
              "#bd3786"
             ],
             [
              0.5555555555555556,
              "#d8576b"
             ],
             [
              0.6666666666666666,
              "#ed7953"
             ],
             [
              0.7777777777777778,
              "#fb9f3a"
             ],
             [
              0.8888888888888888,
              "#fdca26"
             ],
             [
              1,
              "#f0f921"
             ]
            ],
            "type": "surface"
           }
          ],
          "table": [
           {
            "cells": {
             "fill": {
              "color": "#EBF0F8"
             },
             "line": {
              "color": "white"
             }
            },
            "header": {
             "fill": {
              "color": "#C8D4E3"
             },
             "line": {
              "color": "white"
             }
            },
            "type": "table"
           }
          ]
         },
         "layout": {
          "annotationdefaults": {
           "arrowcolor": "#2a3f5f",
           "arrowhead": 0,
           "arrowwidth": 1
          },
          "autotypenumbers": "strict",
          "coloraxis": {
           "colorbar": {
            "outlinewidth": 0,
            "ticks": ""
           }
          },
          "colorscale": {
           "diverging": [
            [
             0,
             "#8e0152"
            ],
            [
             0.1,
             "#c51b7d"
            ],
            [
             0.2,
             "#de77ae"
            ],
            [
             0.3,
             "#f1b6da"
            ],
            [
             0.4,
             "#fde0ef"
            ],
            [
             0.5,
             "#f7f7f7"
            ],
            [
             0.6,
             "#e6f5d0"
            ],
            [
             0.7,
             "#b8e186"
            ],
            [
             0.8,
             "#7fbc41"
            ],
            [
             0.9,
             "#4d9221"
            ],
            [
             1,
             "#276419"
            ]
           ],
           "sequential": [
            [
             0,
             "#0d0887"
            ],
            [
             0.1111111111111111,
             "#46039f"
            ],
            [
             0.2222222222222222,
             "#7201a8"
            ],
            [
             0.3333333333333333,
             "#9c179e"
            ],
            [
             0.4444444444444444,
             "#bd3786"
            ],
            [
             0.5555555555555556,
             "#d8576b"
            ],
            [
             0.6666666666666666,
             "#ed7953"
            ],
            [
             0.7777777777777778,
             "#fb9f3a"
            ],
            [
             0.8888888888888888,
             "#fdca26"
            ],
            [
             1,
             "#f0f921"
            ]
           ],
           "sequentialminus": [
            [
             0,
             "#0d0887"
            ],
            [
             0.1111111111111111,
             "#46039f"
            ],
            [
             0.2222222222222222,
             "#7201a8"
            ],
            [
             0.3333333333333333,
             "#9c179e"
            ],
            [
             0.4444444444444444,
             "#bd3786"
            ],
            [
             0.5555555555555556,
             "#d8576b"
            ],
            [
             0.6666666666666666,
             "#ed7953"
            ],
            [
             0.7777777777777778,
             "#fb9f3a"
            ],
            [
             0.8888888888888888,
             "#fdca26"
            ],
            [
             1,
             "#f0f921"
            ]
           ]
          },
          "colorway": [
           "#636efa",
           "#EF553B",
           "#00cc96",
           "#ab63fa",
           "#FFA15A",
           "#19d3f3",
           "#FF6692",
           "#B6E880",
           "#FF97FF",
           "#FECB52"
          ],
          "font": {
           "color": "#2a3f5f"
          },
          "geo": {
           "bgcolor": "white",
           "lakecolor": "white",
           "landcolor": "#E5ECF6",
           "showlakes": true,
           "showland": true,
           "subunitcolor": "white"
          },
          "hoverlabel": {
           "align": "left"
          },
          "hovermode": "closest",
          "mapbox": {
           "style": "light"
          },
          "paper_bgcolor": "white",
          "plot_bgcolor": "#E5ECF6",
          "polar": {
           "angularaxis": {
            "gridcolor": "white",
            "linecolor": "white",
            "ticks": ""
           },
           "bgcolor": "#E5ECF6",
           "radialaxis": {
            "gridcolor": "white",
            "linecolor": "white",
            "ticks": ""
           }
          },
          "scene": {
           "xaxis": {
            "backgroundcolor": "#E5ECF6",
            "gridcolor": "white",
            "gridwidth": 2,
            "linecolor": "white",
            "showbackground": true,
            "ticks": "",
            "zerolinecolor": "white"
           },
           "yaxis": {
            "backgroundcolor": "#E5ECF6",
            "gridcolor": "white",
            "gridwidth": 2,
            "linecolor": "white",
            "showbackground": true,
            "ticks": "",
            "zerolinecolor": "white"
           },
           "zaxis": {
            "backgroundcolor": "#E5ECF6",
            "gridcolor": "white",
            "gridwidth": 2,
            "linecolor": "white",
            "showbackground": true,
            "ticks": "",
            "zerolinecolor": "white"
           }
          },
          "shapedefaults": {
           "line": {
            "color": "#2a3f5f"
           }
          },
          "ternary": {
           "aaxis": {
            "gridcolor": "white",
            "linecolor": "white",
            "ticks": ""
           },
           "baxis": {
            "gridcolor": "white",
            "linecolor": "white",
            "ticks": ""
           },
           "bgcolor": "#E5ECF6",
           "caxis": {
            "gridcolor": "white",
            "linecolor": "white",
            "ticks": ""
           }
          },
          "title": {
           "x": 0.05
          },
          "xaxis": {
           "automargin": true,
           "gridcolor": "white",
           "linecolor": "white",
           "ticks": "",
           "title": {
            "standoff": 15
           },
           "zerolinecolor": "white",
           "zerolinewidth": 2
          },
          "yaxis": {
           "automargin": true,
           "gridcolor": "white",
           "linecolor": "white",
           "ticks": "",
           "title": {
            "standoff": 15
           },
           "zerolinecolor": "white",
           "zerolinewidth": 2
          }
         }
        },
        "title": {
         "text": "Confusion Matrix"
        },
        "xaxis": {
         "dtick": 1,
         "gridcolor": "rgb(0, 0, 0)",
         "side": "top",
         "ticks": "",
         "title": {
          "text": "Predicted Label"
         }
        },
        "yaxis": {
         "dtick": 1,
         "ticks": "",
         "ticksuffix": "  ",
         "title": {
          "text": "Actual Label"
         }
        }
       }
      }
     },
     "metadata": {},
     "output_type": "display_data"
    }
   ],
   "source": [
    "model = train()"
   ]
  },
  {
   "cell_type": "code",
   "execution_count": null,
   "metadata": {},
   "outputs": [],
   "source": []
  }
 ],
 "metadata": {
  "kernelspec": {
   "display_name": "scratchpad-NsOSbzuL-py3.10",
   "language": "python",
   "name": "python3"
  },
  "language_info": {
   "codemirror_mode": {
    "name": "ipython",
    "version": 3
   },
   "file_extension": ".py",
   "mimetype": "text/x-python",
   "name": "python",
   "nbconvert_exporter": "python",
   "pygments_lexer": "ipython3",
   "version": "3.11.9"
  }
 },
 "nbformat": 4,
 "nbformat_minor": 2
}
